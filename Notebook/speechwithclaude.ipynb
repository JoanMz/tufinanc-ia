{
 "cells": [
  {
   "cell_type": "code",
   "execution_count": 1,
   "metadata": {},
   "outputs": [],
   "source": [
    "import anthropic\n"
   ]
  },
  {
   "cell_type": "code",
   "execution_count": 2,
   "metadata": {},
   "outputs": [],
   "source": [
    "message = \"como puedo ahorrar mas dinero\""
   ]
  },
  {
   "cell_type": "code",
   "execution_count": 3,
   "metadata": {},
   "outputs": [],
   "source": [
    "client = anthropic.Anthropic()\n",
    "messages = client.messages.create(\n",
    "    model=\"claude-3-5-haiku-20241022\",\n",
    "    max_tokens=1000,\n",
    "    temperature=1,\n",
    "    system=\"You are a personal financial assistant. You are very knowledgeable about personal finance, investing, and retirement planning. You are also very good at explaining complex financial concepts in simple terms.\",\n",
    "    messages=[\n",
    "        {\n",
    "            \"role\": \"user\",\n",
    "            \"content\": [{\"type\":\"text\",\n",
    "                         \"text\":f\"{message}\"}]\n",
    "        }\n",
    "    ]\n",
    ")\n",
    "response = messages.content"
   ]
  },
  {
   "cell_type": "code",
   "execution_count": null,
   "metadata": {},
   "outputs": [],
   "source": [
    "##TODO PASAR LA RESPUESTA A ELEVENLAPS GUARDAR AUDIO Y VER QUE HAYA FUNCIONADO"
   ]
  },
  {
   "cell_type": "code",
   "execution_count": 4,
   "metadata": {},
   "outputs": [
    {
     "data": {
      "text/plain": [
       "[TextBlock(citations=None, text='Aquí hay algunos consejos prácticos para ahorrar más dinero:\\n\\n1. Crea un presupuesto\\n- Registra todos tus ingresos y gastos\\n- Identifica gastos innecesarios\\n- Establece metas de ahorro realistas\\n\\n2. Estrategias de ahorro\\n- Automatiza tus ahorros\\n- Guarda un porcentaje fijo de tu ingreso\\n- Abre una cuenta de ahorros separada\\n- Usa la regla 50/30/20 (50% necesidades, 30% deseos, 20% ahorros)\\n\\n3. Reduce gastos\\n- Busca alternativas más económicas\\n- Compara precios\\n- Elimina suscripciones innecesarias\\n- Cocina en casa\\n- Usa transporte público\\n\\n4. Ingresos adicionales\\n- Busca trabajos freelance\\n- Vende artículos que no uses\\n- Desarrolla habilidades para aumentar tu salario\\n\\n5. Inversiones inteligentes\\n- Invertir en fondos indexados\\n- Considerar planes de retiro\\n- Diversificar inversiones\\n\\n6. Evita deudas\\n- Paga tarjetas de crédito a tiempo\\n- Evita compras impulsivas\\n- Usa crédito responsablemente\\n\\n7. Educación financiera\\n- Lee libros sobre finanzas personales\\n- Mantente informado\\n- Busca asesoría financiera', type='text')]"
      ]
     },
     "execution_count": 4,
     "metadata": {},
     "output_type": "execute_result"
    }
   ],
   "source": [
    "response"
   ]
  },
  {
   "cell_type": "code",
   "execution_count": null,
   "metadata": {},
   "outputs": [],
   "source": []
  }
 ],
 "metadata": {
  "kernelspec": {
   "display_name": "lovablevenv",
   "language": "python",
   "name": "python3"
  },
  "language_info": {
   "codemirror_mode": {
    "name": "ipython",
    "version": 3
   },
   "file_extension": ".py",
   "mimetype": "text/x-python",
   "name": "python",
   "nbconvert_exporter": "python",
   "pygments_lexer": "ipython3",
   "version": "3.12.3"
  }
 },
 "nbformat": 4,
 "nbformat_minor": 2
}
