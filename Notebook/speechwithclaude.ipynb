{
 "cells": [
  {
   "cell_type": "code",
   "execution_count": 27,
   "metadata": {},
   "outputs": [],
   "source": [
    "import anthropic\n",
    "import sys\n",
    "sys.path.append(\"../backend\")\n",
    "from tts.elevenlabs_client import ElevenLabsTTSClient"
   ]
  },
  {
   "cell_type": "code",
   "execution_count": 28,
   "metadata": {},
   "outputs": [],
   "source": [
    "message = \"como puedo ahorrar mas dinero\""
   ]
  },
  {
   "cell_type": "code",
   "execution_count": 29,
   "metadata": {},
   "outputs": [],
   "source": [
    "client = anthropic.Anthropic()\n",
    "messages = client.messages.create(\n",
    "    model=\"claude-3-5-haiku-20241022\",\n",
    "    max_tokens=1000,\n",
    "    temperature=1,\n",
    "    system=\"You are a personal financial assistant. You are very knowledgeable about personal finance, investing, and retirement planning. You are also very good at explaining complex financial concepts in simple terms.\",\n",
    "    messages=[\n",
    "        {\n",
    "            \"role\": \"user\",\n",
    "            \"content\": [{\"type\":\"text\",\n",
    "                         \"text\":f\"{message}\"}]\n",
    "        }\n",
    "    ]\n",
    ")\n",
    "response = messages.content"
   ]
  },
  {
   "cell_type": "code",
   "execution_count": 23,
   "metadata": {},
   "outputs": [],
   "source": [
    "##TODO PASAR LA RESPUESTA A ELEVENLAPS GUARDAR AUDIO Y VER QUE HAYA FUNCIONADO"
   ]
  },
  {
   "cell_type": "code",
   "execution_count": 24,
   "metadata": {},
   "outputs": [
    {
     "data": {
      "text/plain": [
       "[TextBlock(citations=None, text='Aquí hay algunos consejos prácticos para ahorrar más dinero:\\n\\n1. Crea un presupuesto\\n- Registra todos tus ingresos y gastos\\n- Identifica gastos innecesarios\\n- Establece metas de ahorro mensuales\\n\\n2. Corta gastos\\n- Cancela suscripciones que no uses\\n- Busca alternativas más económicas\\n- Reduce gastos en comidas fuera\\n- Compara precios antes de comprar\\n\\n3. Estrategias de ahorro\\n- Automatiza tus ahorros\\n- Abre una cuenta de ahorros con buen interés\\n- Guarda un porcentaje fijo de tu salario\\n- Usa la regla 50/30/20 (50% necesidades, 30% deseos, 20% ahorros)\\n\\n4. Aumenta tus ingresos\\n- Busca trabajo freelance\\n- Desarrolla habilidades para pedir aumento\\n- Considera un trabajo secundario\\n\\n5. Inversiones inteligentes\\n- Invierte en fondos indexados\\n- Aprovecha planes de retiro\\n- Diversifica tus inversiones\\n\\n6. Hábitos financieros\\n- Espera 24-48 horas antes de compras grandes\\n- Usa apps para seguimiento de gastos\\n- Evita compras por impulso\\n\\nRecuerda: consistencia y disciplina son clave.', type='text')]"
      ]
     },
     "execution_count": 24,
     "metadata": {},
     "output_type": "execute_result"
    }
   ],
   "source": [
    "response"
   ]
  },
  {
   "cell_type": "code",
   "execution_count": null,
   "metadata": {},
   "outputs": [],
   "source": []
  }
 ],
 "metadata": {
  "kernelspec": {
   "display_name": "base",
   "language": "python",
   "name": "python3"
  },
  "language_info": {
   "codemirror_mode": {
    "name": "ipython",
    "version": 3
   },
   "file_extension": ".py",
   "mimetype": "text/x-python",
   "name": "python",
   "nbconvert_exporter": "python",
   "pygments_lexer": "ipython3",
   "version": "3.12.9"
  }
 },
 "nbformat": 4,
 "nbformat_minor": 2
}
