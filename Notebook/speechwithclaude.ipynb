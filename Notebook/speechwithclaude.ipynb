{
 "cells": [
  {
   "cell_type": "code",
   "execution_count": 16,
   "metadata": {},
   "outputs": [],
   "source": [
    "import anthropic\n",
    "import sys\n",
    "sys.path.append(\"../backend\")\n",
    "from tts.elevenlabs_client import ElevenLabsTTSClient\n"
   ]
  },
  {
   "cell_type": "code",
   "execution_count": 17,
   "metadata": {},
   "outputs": [],
   "source": [
    "message = \"como puedo ahorrar mas dinero\""
   ]
  },
  {
   "cell_type": "code",
   "execution_count": 18,
   "metadata": {},
   "outputs": [],
   "outputs": [],
   "source": [
    "client = anthropic.Anthropic()\n",
    "messages = client.messages.create(\n",
    "    model=\"claude-3-5-haiku-20241022\",\n",
    "    max_tokens=1000,\n",
    "    temperature=1,\n",
    "    system=\"You are a personal financial assistant. You are very knowledgeable about personal finance, investing, and retirement planning. You are also very good at explaining complex financial concepts in simple terms.\",\n",
    "    messages=[\n",
    "        {\n",
    "            \"role\": \"user\",\n",
    "            \"content\": [{\"type\":\"text\",\n",
    "                         \"text\":f\"{message}\"}]\n",
    "        }\n",
    "    ]\n",
    ")\n",
    "response = messages.content"
   ]
  },
  {
   "cell_type": "code",
   "execution_count": 21,
   "metadata": {},
   "outputs": [
    {
     "data": {
      "text/plain": [
       "(<_io.BytesIO at 0x7ff00e6fbb00>, None)"
      ]
     },
     "execution_count": 21,
     "metadata": {},
     "output_type": "execute_result"
    }
   ],
   "source": [
    "##TODO PASAR LA RESPUESTA A ELEVENLAPS GUARDAR AUDIO Y VER QUE HAYA FUNCIONADO\n",
    "obj = ElevenLabsTTSClient()\n",
    "obj.text_to_speech(response[0].text, \"21m00Tcm4TlvDq8ikWAM\", \"eleven_multilingual_v2\")"
   ]
  },
  {
   "cell_type": "code",
   "execution_count": 20,
   "metadata": {},
   "outputs": [
    {
     "data": {
      "text/plain": [
       "'Aquí hay algunos consejos prácticos para ahorrar más dinero:\\n\\n1. Crea un presupuesto\\n- Registra todos tus ingresos y gastos\\n- Identifica gastos innecesarios\\n- Establece metas de ahorro realistas\\n\\n2. Reducir gastos\\n- Busca alternativas más económicas\\n- Elimina suscripciones que no uses\\n- Compara precios antes de comprar\\n- Cocina en casa en lugar de comer fuera\\n\\n3. Estrategias de ahorro\\n- Automatiza tus ahorros\\n- Abre una cuenta de ahorros con buenos intereses\\n- Guarda un porcentaje fijo de tu ingreso\\n- Aprovecha descuentos y promociones\\n\\n4. Ingresos adicionales\\n- Considera trabajos freelance\\n- Vende artículos que no uses\\n- Busca horas extras en tu trabajo\\n\\n5. Inversiones inteligentes\\n- Invierte en fondos de bajo costo\\n- Diversifica tus inversiones\\n- Aprovecha planes de retiro como 401k\\n\\n6. Reducir deudas\\n- Paga tarjetas de crédito a tiempo\\n- Negocia tasas de interés\\n- Evita nuevas deudas\\n\\n7. Educación financiera\\n- Lee libros sobre finanzas personales\\n- Mantente informado de temas financieros'"
      ]
     },
     "execution_count": 20,
     "metadata": {},
     "output_type": "execute_result"
    }
   ],
   "source": [
    "response[0].text"
   ]
  },
  {
   "cell_type": "code",
   "execution_count": null,
   "metadata": {},
   "outputs": [],
   "source": []
  }
 ],
 "metadata": {
  "kernelspec": {
   "display_name": "base",
   "language": "python",
   "name": "python3"
  },
  "language_info": {
   "codemirror_mode": {
    "name": "ipython",
    "version": 3
   },
   "file_extension": ".py",
   "mimetype": "text/x-python",
   "name": "python",
   "nbconvert_exporter": "python",
   "pygments_lexer": "ipython3",
   "version": "3.12.9"
  }
 },
 "nbformat": 4,
 "nbformat_minor": 2
}
