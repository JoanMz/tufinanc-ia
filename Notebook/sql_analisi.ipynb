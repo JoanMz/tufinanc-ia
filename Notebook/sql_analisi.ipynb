{
 "cells": [
  {
   "cell_type": "code",
   "execution_count": 3,
   "metadata": {},
   "outputs": [],
   "source": [
    "from psycopg_pool import ConnectionPool\n",
    "import os"
   ]
  },
  {
   "cell_type": "code",
   "execution_count": 4,
   "metadata": {},
   "outputs": [],
   "source": [
    "pool = ConnectionPool(\n",
    "    os.getenv(\"SUPABASE_CONECTION_URL\")\n",
    ")"
   ]
  },
  {
   "cell_type": "code",
   "execution_count": 7,
   "metadata": {},
   "outputs": [
    {
     "name": "stdout",
     "output_type": "stream",
     "text": [
      "(1, 'testuser0@test.com', 'testuser', 'lost', datetime.date(2003, 1, 29), 'test', datetime.datetime(2025, 3, 30, 1, 38, 36, 467736))\n"
     ]
    }
   ],
   "source": [
    "with pool.connection() as conn:\n",
    "    with conn.cursor() as cur:\n",
    "        cur.execute(\"SELECT * FROM financelive.users\")\n",
    "        rows = cur.fetchall()\n",
    "        for row in rows:\n",
    "            print(row)"
   ]
  },
  {
   "cell_type": "code",
   "execution_count": 8,
   "metadata": {},
   "outputs": [],
   "source": [
    "def use_connection(sql: str, params=None):\n",
    "    if params is None:\n",
    "        print(\"no params\")\n",
    "    with pool.connection() as conn:\n",
    "        with conn.cursor() as cur:\n",
    "            cur.execute(sql, params)\n",
    "            rows = cur.fetchall()\n",
    "            for row in rows:\n",
    "                print(row)"
   ]
  },
  {
   "cell_type": "code",
   "execution_count": 10,
   "metadata": {},
   "outputs": [
    {
     "name": "stdout",
     "output_type": "stream",
     "text": [
      "(1, 'testuser0@test.com', 'testuser', 'lost', datetime.date(2003, 1, 29), 'test', datetime.datetime(2025, 3, 30, 1, 38, 36, 467736))\n"
     ]
    }
   ],
   "source": [
    "## PROBAR LAS CONSULTAS\n",
    "sql = \"\"\"SELECT * FROM financelive.users WHERE email = %s\"\"\"\n",
    "params = (\"testuser0@test.com\", )\n",
    "use_connection(sql, params)"
   ]
  },
  {
   "cell_type": "code",
   "execution_count": null,
   "metadata": {},
   "outputs": [],
   "source": []
  }
 ],
 "metadata": {
  "kernelspec": {
   "display_name": "lovablevenv",
   "language": "python",
   "name": "python3"
  },
  "language_info": {
   "codemirror_mode": {
    "name": "ipython",
    "version": 3
   },
   "file_extension": ".py",
   "mimetype": "text/x-python",
   "name": "python",
   "nbconvert_exporter": "python",
   "pygments_lexer": "ipython3",
   "version": "3.12.3"
  }
 },
 "nbformat": 4,
 "nbformat_minor": 2
}
