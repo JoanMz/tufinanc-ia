{
 "cells": [
  {
   "cell_type": "code",
   "execution_count": 16,
   "metadata": {},
   "outputs": [],
   "source": [
    "from psycopg_pool import ConnectionPool\n",
    "import os"
   ]
  },
  {
   "cell_type": "code",
   "execution_count": 17,
   "metadata": {},
   "outputs": [],
   "source": [
    "pool = ConnectionPool(\n",
    "    os.getenv(\"SUPABASE_CONECTION_URL\")\n",
    ")"
   ]
  },
  {
   "cell_type": "code",
   "execution_count": 18,
   "metadata": {},
   "outputs": [
    {
     "name": "stdout",
     "output_type": "stream",
     "text": [
      "(1, 'testuser0@test.com', 'testuser', 'lost', datetime.date(2003, 1, 29), 'test', datetime.datetime(2025, 3, 30, 1, 38, 36, 467736))\n"
     ]
    }
   ],
   "source": [
    "with pool.connection() as conn:\n",
    "    with conn.cursor() as cur:\n",
    "        cur.execute(\"SELECT * FROM financelive.users\")\n",
    "        rows = cur.fetchall()\n",
    "        for row in rows:\n",
    "            print(row)"
   ]
  },
  {
   "cell_type": "code",
   "execution_count": 19,
   "metadata": {},
   "outputs": [],
   "source": [
    "def use_connection(sql: str, params=None):\n",
    "    if params is None:\n",
    "        print(\"no params\")\n",
    "    with pool.connection() as conn:\n",
    "        with conn.cursor() as cur:\n",
    "            cur.execute(sql, params)\n",
    "            rows = cur.fetchall()\n",
    "            for row in rows:\n",
    "                print(row)"
   ]
  },
  {
   "cell_type": "code",
   "execution_count": 20,
   "metadata": {},
   "outputs": [
    {
     "name": "stdout",
     "output_type": "stream",
     "text": [
      "(1, 'testuser0@test.com', 'testuser', 'lost', datetime.date(2003, 1, 29), 'test', datetime.datetime(2025, 3, 30, 1, 38, 36, 467736))\n"
     ]
    }
   ],
   "source": [
    "## PROBAR LAS CONSULTAS\n",
    "sql = \"\"\"SELECT * FROM financelive.users WHERE email = %s\"\"\"\n",
    "params = (\"testuser0@test.com\", )\n",
    "use_connection(sql, params)"
   ]
  },
  {
   "cell_type": "code",
   "execution_count": 24,
   "metadata": {},
   "outputs": [],
   "source": [
    "sql = \"\"\"\n",
    "SELECT SUM(i.amount) AS total_ingresos_mes\n",
    "FROM financelive.incomes i\n",
    "JOIN financelive.users u ON i.user_id = u.id\n",
    "WHERE u.email = %s\n",
    "  AND EXTRACT(MONTH FROM i.date_created) = %s\n",
    "  AND EXTRACT(YEAR FROM i.date_created) = %s\n",
    "\"\"\"\n"
   ]
  },
  {
   "cell_type": "code",
   "execution_count": 25,
   "metadata": {},
   "outputs": [
    {
     "name": "stdout",
     "output_type": "stream",
     "text": [
      "(None,)\n"
     ]
    }
   ],
   "source": [
    "from datetime import date\n",
    "today = date.today()\n",
    "\n",
    "params = (\"testuser0@test.com\", today.month, today.year)\n",
    "\n",
    "use_connection(sql, params)\n"
   ]
  },
  {
   "cell_type": "code",
   "execution_count": 37,
   "metadata": {},
   "outputs": [],
   "source": [
    "sql = \"\"\"\n",
    "SELECT TO_CHAR(i.date_created, 'YYYY-MM') AS mes,\n",
    "       COALESCE(SUM(i.amount), 0) AS total\n",
    "FROM financelive.incomes i\n",
    "JOIN financelive.users u ON i.user_id = u.id\n",
    "WHERE u.email = %s\n",
    "GROUP BY mes\n",
    "ORDER BY mes DESC\n",
    "LIMIT 6\n",
    "\"\"\"\n",
    "\n",
    "params = (\"testuser0@test.com\", )\n",
    "use_connection(sql, params)\n"
   ]
  },
  {
   "cell_type": "code",
   "execution_count": 38,
   "metadata": {},
   "outputs": [
    {
     "name": "stdout",
     "output_type": "stream",
     "text": [
      "no params\n"
     ]
    }
   ],
   "source": [
    "sql = \"\"\"\n",
    "SELECT u.email, COALESCE(SUM(i.amount), 0) AS total_ingresos\n",
    "FROM financelive.incomes i\n",
    "JOIN financelive.users u ON i.user_id = u.id\n",
    "GROUP BY u.email\n",
    "\"\"\"\n",
    "\n",
    "use_connection(sql)\n"
   ]
  },
  {
   "cell_type": "code",
   "execution_count": 39,
   "metadata": {},
   "outputs": [
    {
     "name": "stdout",
     "output_type": "stream",
     "text": [
      "no params\n"
     ]
    }
   ],
   "source": [
    "sql = \"\"\"\n",
    "SELECT u.email, COUNT(i.id) AS cantidad_movimientos\n",
    "FROM financelive.incomes i\n",
    "JOIN financelive.users u ON i.user_id = u.id\n",
    "GROUP BY u.email\n",
    "ORDER BY cantidad_movimientos DESC\n",
    "\"\"\"\n",
    "\n",
    "use_connection(sql)\n"
   ]
  },
  {
   "cell_type": "code",
   "execution_count": 40,
   "metadata": {},
   "outputs": [
    {
     "name": "stdout",
     "output_type": "stream",
     "text": [
      "no params\n"
     ]
    }
   ],
   "source": [
    "sql = \"\"\"\n",
    "SELECT u.email, SUM(i.amount) AS total\n",
    "FROM financelive.incomes i\n",
    "JOIN financelive.users u ON i.user_id = u.id\n",
    "GROUP BY u.email\n",
    "ORDER BY total DESC\n",
    "LIMIT 5\n",
    "\"\"\"\n",
    "\n",
    "use_connection(sql)\n"
   ]
  },
  {
   "cell_type": "code",
   "execution_count": 41,
   "metadata": {},
   "outputs": [],
   "source": [
    "sql = \"\"\"\n",
    "SELECT i.amount, i.description_, i.date_created\n",
    "FROM financelive.incomes i\n",
    "JOIN financelive.users u ON i.user_id = u.id\n",
    "WHERE u.email = %s\n",
    "ORDER BY i.date_created DESC\n",
    "LIMIT 10\n",
    "\"\"\"\n",
    "params = (\"testuser0@test.com\", )\n",
    "use_connection(sql, params)\n"
   ]
  },
  {
   "cell_type": "code",
   "execution_count": 42,
   "metadata": {},
   "outputs": [],
   "source": [
    "params = (\"testuser0@test.com\", )"
   ]
  },
  {
   "cell_type": "code",
   "execution_count": 43,
   "metadata": {},
   "outputs": [],
   "source": [
    "sql = \"\"\"\n",
    "SELECT u.email, COALESCE(SUM(i.amount), 0) AS total_ingresos\n",
    "FROM financelive.incomes i\n",
    "JOIN financelive.users u ON i.user_id = u.id\n",
    "WHERE u.email = %s\n",
    "GROUP BY u.email\n",
    "\"\"\"\n",
    "params = (\"testuser0@test.com\", )\n",
    "use_connection(sql, params)\n"
   ]
  },
  {
   "cell_type": "code",
   "execution_count": 44,
   "metadata": {},
   "outputs": [],
   "source": [
    "sql = \"\"\"\n",
    "SELECT TO_CHAR(i.date_created, 'YYYY-MM') AS mes,\n",
    "       COALESCE(SUM(i.amount), 0) AS total\n",
    "FROM financelive.incomes i\n",
    "JOIN financelive.users u ON i.user_id = u.id\n",
    "WHERE u.email = %s\n",
    "GROUP BY mes\n",
    "ORDER BY mes DESC\n",
    "LIMIT 6\n",
    "\"\"\"\n",
    "params = (\"testuser0@test.com\", )\n",
    "use_connection(sql, params)\n"
   ]
  },
  {
   "cell_type": "code",
   "execution_count": 45,
   "metadata": {},
   "outputs": [],
   "source": [
    "sql = \"\"\"\n",
    "SELECT i.amount, i.description_, i.date_created\n",
    "FROM financelive.incomes i\n",
    "JOIN financelive.users u ON i.user_id = u.id\n",
    "WHERE u.email = %s\n",
    "ORDER BY i.date_created DESC\n",
    "LIMIT 10\n",
    "\"\"\"\n",
    "params = (\"testuser0@test.com\", )\n",
    "use_connection(sql, params)\n"
   ]
  },
  {
   "cell_type": "code",
   "execution_count": 46,
   "metadata": {},
   "outputs": [
    {
     "name": "stdout",
     "output_type": "stream",
     "text": [
      "(Decimal('0'),)\n"
     ]
    }
   ],
   "source": [
    "from datetime import date\n",
    "today = date.today()\n",
    "\n",
    "sql = \"\"\"\n",
    "SELECT COALESCE(SUM(i.amount), 0) AS total_mes\n",
    "FROM financelive.incomes i\n",
    "JOIN financelive.users u ON i.user_id = u.id\n",
    "WHERE u.email = %s\n",
    "  AND EXTRACT(MONTH FROM i.date_created) = %s\n",
    "  AND EXTRACT(YEAR FROM i.date_created) = %s\n",
    "\"\"\"\n",
    "params = (\"testuser0@test.com\", today.month, today.year)\n",
    "use_connection(sql, params)\n"
   ]
  },
  {
   "cell_type": "code",
   "execution_count": 47,
   "metadata": {},
   "outputs": [
    {
     "name": "stdout",
     "output_type": "stream",
     "text": [
      "no params\n"
     ]
    }
   ],
   "source": [
    "sql = \"\"\"\n",
    "SELECT *\n",
    "FROM financelive.incomes\n",
    "LIMIT 5\n",
    "\"\"\"\n",
    "use_connection(sql)"
   ]
  },
  {
   "cell_type": "code",
   "execution_count": 52,
   "metadata": {},
   "outputs": [],
   "source": [
    "from datetime import date\n",
    "\n",
    "def ingresos_total_mes(email: str):\n",
    "    today = date.today()\n",
    "    sql = \"\"\"\n",
    "    SELECT COALESCE(SUM(i.amount), 0) AS total_mes\n",
    "    FROM financelive.incomes i\n",
    "    JOIN financelive.users u ON i.user_id = u.id\n",
    "    WHERE u.email = %s\n",
    "      AND EXTRACT(MONTH FROM i.date_created) = %s\n",
    "      AND EXTRACT(YEAR FROM i.date_created) = %s\n",
    "    \"\"\"\n",
    "    params = (email, today.month, today.year)\n",
    "    resultado = use_connection(sql, params)\n",
    "    if not resultado or resultado == [(None,)]:\n",
    "        print(\"Sin ingresos registrados este mes.\")\n",
    "    else:\n",
    "        print(f\"Ingreso total del mes: {resultado[0][0]}\")\n"
   ]
  },
  {
   "cell_type": "code",
   "execution_count": 53,
   "metadata": {},
   "outputs": [
    {
     "name": "stdout",
     "output_type": "stream",
     "text": [
      "(Decimal('0'),)\n",
      "Sin ingresos registrados este mes.\n"
     ]
    }
   ],
   "source": [
    "ingresos_total_mes(\"testuser0@test.com\")"
   ]
  },
  {
   "cell_type": "code",
   "execution_count": 54,
   "metadata": {},
   "outputs": [],
   "source": [
    "def ingresos_historicos(email: str):\n",
    "    sql = \"\"\"\n",
    "    SELECT COALESCE(SUM(i.amount), 0) AS total_historico\n",
    "    FROM financelive.incomes i\n",
    "    JOIN financelive.users u ON i.user_id = u.id\n",
    "    WHERE u.email = %s\n",
    "    \"\"\"\n",
    "    params = (email,)\n",
    "    resultado = use_connection(sql, params)\n",
    "    if not resultado or resultado == [(None,)]:\n",
    "        print(\"Sin ingresos históricos registrados.\")\n",
    "    else:\n",
    "        print(f\"Ingreso total histórico: {resultado[0][0]}\")\n"
   ]
  },
  {
   "cell_type": "code",
   "execution_count": 55,
   "metadata": {},
   "outputs": [
    {
     "name": "stdout",
     "output_type": "stream",
     "text": [
      "(Decimal('0'),)\n",
      "Sin ingresos históricos registrados.\n"
     ]
    }
   ],
   "source": [
    "ingresos_historicos(\"testuser0@test.com\")"
   ]
  },
  {
   "cell_type": "code",
   "execution_count": 56,
   "metadata": {},
   "outputs": [],
   "source": [
    "def ultimos_ingresos(email: str):\n",
    "    sql = \"\"\"\n",
    "    SELECT i.amount, i.description_, i.date_created\n",
    "    FROM financelive.incomes i\n",
    "    JOIN financelive.users u ON i.user_id = u.id\n",
    "    WHERE u.email = %s\n",
    "    ORDER BY i.date_created DESC\n",
    "    LIMIT 10\n",
    "    \"\"\"\n",
    "    params = (email,)\n",
    "    resultado = use_connection(sql, params)\n",
    "    if not resultado:\n",
    "        print(\"Sin ingresos recientes.\")\n",
    "    else:\n",
    "        for r in resultado:\n",
    "            print(r)\n"
   ]
  },
  {
   "cell_type": "code",
   "execution_count": 57,
   "metadata": {},
   "outputs": [
    {
     "name": "stdout",
     "output_type": "stream",
     "text": [
      "Sin ingresos recientes.\n"
     ]
    }
   ],
   "source": [
    "ultimos_ingresos(\"testuser0@test.com\")"
   ]
  },
  {
   "cell_type": "code",
   "execution_count": 58,
   "metadata": {},
   "outputs": [],
   "source": [
    "def ingresos_por_mes(email: str):\n",
    "    sql = \"\"\"\n",
    "    SELECT TO_CHAR(i.date_created, 'YYYY-MM') AS mes,\n",
    "           COALESCE(SUM(i.amount), 0) AS total\n",
    "    FROM financelive.incomes i\n",
    "    JOIN financelive.users u ON i.user_id = u.id\n",
    "    WHERE u.email = %s\n",
    "    GROUP BY mes\n",
    "    ORDER BY mes DESC\n",
    "    LIMIT 6\n",
    "    \"\"\"\n",
    "    params = (email,)\n",
    "    resultado = use_connection(sql, params)\n",
    "    if not resultado:\n",
    "        print(\"Sin ingresos mensuales registrados.\")\n",
    "    else:\n",
    "        for r in resultado:\n",
    "            print(r)\n"
   ]
  },
  {
   "cell_type": "code",
   "execution_count": 59,
   "metadata": {},
   "outputs": [
    {
     "name": "stdout",
     "output_type": "stream",
     "text": [
      "Sin ingresos mensuales registrados.\n"
     ]
    }
   ],
   "source": [
    "ingresos_por_mes(\"testuser0@test.com\")"
   ]
  },
  {
   "cell_type": "code",
   "execution_count": 60,
   "metadata": {},
   "outputs": [],
   "source": [
    "from datetime import date\n",
    "\n",
    "def saldo_neto_mensual(email: str):\n",
    "    today = date.today()\n",
    "    \n",
    "    sql = \"\"\"\n",
    "    WITH ingresos AS (\n",
    "      SELECT SUM(i.amount) AS total\n",
    "      FROM financelive.incomes i\n",
    "      JOIN financelive.users u ON i.user_id = u.id\n",
    "      WHERE u.email = %s\n",
    "        AND EXTRACT(MONTH FROM i.date_created) = %s\n",
    "        AND EXTRACT(YEAR FROM i.date_created) = %s\n",
    "    ),\n",
    "    egresos AS (\n",
    "      SELECT\n",
    "        COALESCE((\n",
    "          SELECT SUM(d.amount)\n",
    "          FROM financelive.debts d\n",
    "          JOIN financelive.users u ON d.user_id = u.id\n",
    "          WHERE u.email = %s\n",
    "            AND EXTRACT(MONTH FROM d.date_created) = %s\n",
    "            AND EXTRACT(YEAR FROM d.date_created) = %s\n",
    "        ), 0)\n",
    "      +\n",
    "        COALESCE((\n",
    "          SELECT SUM(s.amount)\n",
    "          FROM financelive.spendings s\n",
    "          JOIN financelive.users u ON s.user_id = u.id\n",
    "          WHERE u.email = %s\n",
    "            AND EXTRACT(MONTH FROM s.date_created) = %s\n",
    "            AND EXTRACT(YEAR FROM s.date_created) = %s\n",
    "        ), 0)\n",
    "      +\n",
    "        COALESCE((\n",
    "          SELECT SUM(inv.amount)\n",
    "          FROM financelive.investments inv\n",
    "          JOIN financelive.users u ON inv.user_id = u.id\n",
    "          WHERE u.email = %s\n",
    "            AND EXTRACT(MONTH FROM inv.date_created) = %s\n",
    "            AND EXTRACT(YEAR FROM inv.date_created) = %s\n",
    "        ), 0) AS total\n",
    "    )\n",
    "    SELECT\n",
    "      COALESCE(ingresos.total, 0) AS ingresos_mes,\n",
    "      COALESCE(egresos.total, 0) AS egresos_mes,\n",
    "      COALESCE(ingresos.total, 0) - COALESCE(egresos.total, 0) AS saldo_neto\n",
    "    FROM ingresos, egresos\n",
    "    \"\"\"\n",
    "    \n",
    "    params = (\n",
    "        email, today.month, today.year,  # ingresos\n",
    "        email, today.month, today.year,  # debts\n",
    "        email, today.month, today.year,  # spendings\n",
    "        email, today.month, today.year   # investments\n",
    "    )\n",
    "    \n",
    "    resultado = use_connection(sql, params)\n",
    "    \n",
    "    if not resultado or resultado == [(None, None, None)]:\n",
    "        print(\"No hay datos registrados para este mes.\")\n",
    "    else:\n",
    "        ingresos, egresos, saldo = resultado[0]\n",
    "        print(f\"Ingresos del mes: {ingresos}\")\n",
    "        print(f\"Gastos del mes: {egresos}\")\n",
    "        print(f\"Saldo neto: {saldo}\")\n"
   ]
  },
  {
   "cell_type": "code",
   "execution_count": 61,
   "metadata": {},
   "outputs": [
    {
     "name": "stdout",
     "output_type": "stream",
     "text": [
      "(Decimal('0'), Decimal('1010000.00'), Decimal('-1010000.00'))\n",
      "No hay datos registrados para este mes.\n"
     ]
    }
   ],
   "source": [
    "saldo_neto_mensual(\"testuser0@test.com\")"
   ]
  },
  {
   "cell_type": "code",
   "execution_count": 63,
   "metadata": {},
   "outputs": [
    {
     "name": "stdout",
     "output_type": "stream",
     "text": [
      "Ingresos insertados.\n"
     ]
    }
   ],
   "source": [
    "sql = \"\"\"\n",
    "INSERT INTO financelive.incomes (user_id, amount, description_, date_created)\n",
    "VALUES \n",
    "  (1, 500.00, 'Pago freelance', NOW()),\n",
    "  (1, 750.00, 'Reembolso', NOW())\n",
    "\"\"\"\n",
    "\n",
    "# Ejecutar sin esperar resultados\n",
    "with pool.connection() as conn:\n",
    "    with conn.cursor() as cur:\n",
    "        cur.execute(sql)\n",
    "        conn.commit()\n",
    "        print(\"Ingresos insertados.\")"
   ]
  },
  {
   "cell_type": "code",
   "execution_count": 64,
   "metadata": {},
   "outputs": [
    {
     "name": "stdout",
     "output_type": "stream",
     "text": [
      "(Decimal('1250.00'), Decimal('1010000.00'), Decimal('-1008750.00'))\n",
      "No hay datos registrados para este mes.\n"
     ]
    }
   ],
   "source": [
    "saldo_neto_mensual(\"testuser0@test.com\")"
   ]
  },
  {
   "cell_type": "code",
   "execution_count": 77,
   "metadata": {},
   "outputs": [
    {
     "name": "stdout",
     "output_type": "stream",
     "text": [
      "Inversiones insertadas.\n"
     ]
    }
   ],
   "source": [
    "sql = \"\"\"\n",
    "INSERT INTO financelive.investments \n",
    "(user_id, amount, description_, status_, date_created)\n",
    "VALUES \n",
    "  (1, 400.00, 'ETF mensual', TRUE, NOW()),\n",
    "  (1, 150.00, 'Crypto', FALSE, NOW())\n",
    "\"\"\"\n",
    "\n",
    "with pool.connection() as conn:\n",
    "    with conn.cursor() as cur:\n",
    "        cur.execute(sql)\n",
    "        conn.commit()\n",
    "        print(\"Inversiones insertadas.\")"
   ]
  },
  {
   "cell_type": "code",
   "execution_count": 78,
   "metadata": {},
   "outputs": [
    {
     "name": "stdout",
     "output_type": "stream",
     "text": [
      "Gastos insertados.\n"
     ]
    }
   ],
   "source": [
    "sql = \"\"\"\n",
    "INSERT INTO financelive.spendings (user_id, amount, description_, date_created)\n",
    "VALUES \n",
    "  (1, 220.00, 'Comida', NOW()),\n",
    "  (1, 80.00, 'Entretenimiento', NOW())\n",
    "\"\"\"\n",
    "\n",
    "with pool.connection() as conn:\n",
    "    with conn.cursor() as cur:\n",
    "        cur.execute(sql)\n",
    "        conn.commit()\n",
    "        print(\"Gastos insertados.\")\n"
   ]
  },
  {
   "cell_type": "code",
   "execution_count": 79,
   "metadata": {},
   "outputs": [],
   "source": [
    "sql = \"\"\"\n",
    "INSERT INTO financelive.debts \n",
    "(user_id, amount, description_, interest_rate, total_payment, total_installments, date_created)\n",
    "VALUES \n",
    "  (1, 300.00, 'Pago tarjeta', 2.5, 330.00, 12, NOW()),\n",
    "  (1, 150.00, 'Crédito personal', 1.8, 160.00, 6, NOW())\n",
    "\"\"\""
   ]
  },
  {
   "cell_type": "code",
   "execution_count": 80,
   "metadata": {},
   "outputs": [
    {
     "name": "stdout",
     "output_type": "stream",
     "text": [
      "(Decimal('1250.00'), Decimal('1011150.00'), Decimal('-1009900.00'))\n",
      "No hay datos registrados para este mes.\n"
     ]
    }
   ],
   "source": [
    "saldo_neto_mensual(\"testuser0@test.com\")"
   ]
  },
  {
   "cell_type": "code",
   "execution_count": 82,
   "metadata": {},
   "outputs": [
    {
     "name": "stdout",
     "output_type": "stream",
     "text": [
      "no params\n",
      "(1, 'testuser0@test.com')\n"
     ]
    }
   ],
   "source": [
    "sql = \"SELECT id, email FROM financelive.users\"\n",
    "use_connection(sql)"
   ]
  },
  {
   "cell_type": "code",
   "execution_count": 83,
   "metadata": {},
   "outputs": [
    {
     "name": "stdout",
     "output_type": "stream",
     "text": [
      "(Decimal('1250.00'), Decimal('1011150.00'), Decimal('-1009900.00'))\n",
      "No hay datos registrados para este mes.\n"
     ]
    }
   ],
   "source": [
    "saldo_neto_mensual(\"testuser0@test.com\")\n"
   ]
  },
  {
   "cell_type": "code",
   "execution_count": 95,
   "metadata": {},
   "outputs": [],
   "source": [
    "from datetime import date\n",
    "\n",
    "def saldo_neto_mensual(email: str):\n",
    "    today = date.today()\n",
    "\n",
    "    sql = \"\"\"\n",
    "    SELECT\n",
    "        COALESCE((\n",
    "            SELECT SUM(i.amount)\n",
    "            FROM financelive.incomes i\n",
    "            JOIN financelive.users u ON i.user_id = u.id\n",
    "            WHERE u.email = %s\n",
    "            AND EXTRACT(MONTH FROM i.date_created) = %s\n",
    "            AND EXTRACT(YEAR FROM i.date_created) = %s\n",
    "        ), 0) AS total_ingresos,\n",
    "\n",
    "        COALESCE((\n",
    "            SELECT SUM(d.amount)\n",
    "            FROM financelive.debts d\n",
    "            JOIN financelive.users u ON d.user_id = u.id\n",
    "            WHERE u.email = %s\n",
    "            AND EXTRACT(MONTH FROM d.date_created) = %s\n",
    "            AND EXTRACT(YEAR FROM d.date_created) = %s\n",
    "        ), 0) +\n",
    "        COALESCE((\n",
    "            SELECT SUM(s.amount)\n",
    "            FROM financelive.spendings s\n",
    "            JOIN financelive.users u ON s.user_id = u.id\n",
    "            WHERE u.email = %s\n",
    "            AND EXTRACT(MONTH FROM s.date_created) = %s\n",
    "            AND EXTRACT(YEAR FROM s.date_created) = %s\n",
    "        ), 0) +\n",
    "        COALESCE((\n",
    "            SELECT SUM(inv.amount)\n",
    "            FROM financelive.investments inv\n",
    "            JOIN financelive.users u ON inv.user_id = u.id\n",
    "            WHERE u.email = %s\n",
    "            AND EXTRACT(MONTH FROM inv.date_created) = %s\n",
    "            AND EXTRACT(YEAR FROM inv.date_created) = %s\n",
    "        ), 0) AS total_gastos\n",
    "    \"\"\"\n",
    "\n",
    "    params = (\n",
    "        email, today.month, today.year,\n",
    "        email, today.month, today.year,\n",
    "        email, today.month, today.year,\n",
    "        email, today.month, today.year,\n",
    "    )\n",
    "\n",
    "    resultado = use_connection(sql, params)\n",
    "\n",
    "    if resultado and resultado[0] and any(v is not None for v in resultado[0]):\n",
    "        ingresos, gastos = resultado[0]\n",
    "        saldo = ingresos - gastos\n",
    "        print(f\"Ingresos: ${ingresos}\")\n",
    "        print(f\"Gastos: ${gastos}\")\n",
    "        print(f\"Saldo neto: ${saldo}\")\n",
    "    else:\n",
    "        print(\"No hay datos registrados para este mes.\")\n",
    "\n"
   ]
  },
  {
   "cell_type": "code",
   "execution_count": 96,
   "metadata": {},
   "outputs": [
    {
     "name": "stdout",
     "output_type": "stream",
     "text": [
      "(Decimal('1250.00'), Decimal('1011150.00'))\n",
      "No hay datos registrados para este mes.\n"
     ]
    }
   ],
   "source": [
    "saldo_neto_mensual(\"testuser0@test.com\")"
   ]
  }
 ],
 "metadata": {
  "kernelspec": {
   "display_name": ".venv",
   "language": "python",
   "name": "python3"
  },
  "language_info": {
   "codemirror_mode": {
    "name": "ipython",
    "version": 3
   },
   "file_extension": ".py",
   "mimetype": "text/x-python",
   "name": "python",
   "nbconvert_exporter": "python",
   "pygments_lexer": "ipython3",
   "version": "3.13.2"
  }
 },
 "nbformat": 4,
 "nbformat_minor": 2
}
